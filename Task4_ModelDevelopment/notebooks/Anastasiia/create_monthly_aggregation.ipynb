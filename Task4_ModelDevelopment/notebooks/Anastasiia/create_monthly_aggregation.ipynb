{
 "cells": [
  {
   "cell_type": "code",
   "execution_count": 16,
   "id": "1f9532f8",
   "metadata": {},
   "outputs": [],
   "source": [
    "import pandas as pd\n",
    "import os"
   ]
  },
  {
   "cell_type": "markdown",
   "id": "e6b903be",
   "metadata": {},
   "source": [
    "# Load data"
   ]
  },
  {
   "cell_type": "code",
   "execution_count": 17,
   "id": "ec57275d",
   "metadata": {},
   "outputs": [],
   "source": [
    "script_dir = os.path.dirname(\"__file__\")  # the cwd relative path of the script file\n",
    "\n",
    "\n",
    "# Bhopal dataset \n",
    "bhopal_ds_name = \"data/Bhopal_CompleteData_Final_Modified.csv\"\n",
    "rel_to_bhopal_ds = os.path.join(script_dir, bhopal_ds_name)\n",
    "df_bhopal = pd.read_csv(rel_to_bhopal_ds)\n",
    "df_bhopal.index = pd.to_datetime(df_bhopal.date)\n",
    "\n",
    "\n",
    "# Algiers dataset\n",
    "algeria_ds_name = \"data/GLDAS_GFS_population_Algeria_2015_2023_final.csv\"\n",
    "rel_to_algeria_ds = os.path.join(script_dir, algeria_ds_name)\n",
    "df_algeria = pd.read_csv(rel_to_algeria_ds)\n",
    "df_algeria.index = pd.to_datetime(df_algeria.date)\n"
   ]
  },
  {
   "cell_type": "code",
   "execution_count": 18,
   "id": "76216b8a",
   "metadata": {},
   "outputs": [],
   "source": [
    "# Create target column for Algeria\n",
    "\n",
    "# Set constants\n",
    "water_supply= 490\n",
    "# Set the total lake and reservoir area to lake_reservoir_area\n",
    "total_dam_area = 75.63\n",
    "# A day in second\n",
    "day_in_sec = 86400\n",
    "# Water demand'\n",
    "daily_water_demand_lcd = 200\n",
    "\n",
    "# Calculate daily water volume in liter\n",
    "precipitation_mld = total_dam_area * df_algeria['precipitation_sum (mm)']\n",
    "evapotranspiration_mld = total_dam_area * 10**6 * (df_algeria['Evap_tavg'] * day_in_sec * 10**(-6))\n",
    "runoff_mld = total_dam_area * 10**6 * (df_algeria['Qs_tavg'] * day_in_sec * 10**(-6))\n",
    "delta = precipitation_mld - evapotranspiration_mld - runoff_mld\n",
    "df_algeria['daily_water_volume'] = water_supply + delta"
   ]
  },
  {
   "cell_type": "code",
   "execution_count": 19,
   "id": "716b5201",
   "metadata": {},
   "outputs": [],
   "source": [
    "# Create target column for Bhopal\n",
    "\n",
    "# The area of the Upper lake in km^2\n",
    "Upper_lake_area = 36\n",
    "# Fixed storage (S) value (in MLD) as explained from the above calculations\n",
    "Storage = 398.05\n",
    "\n",
    "# Precipitation in MLD\n",
    "df_bhopal['Precipitation in MLD'] = df_bhopal['precipitation_sum']*Upper_lake_area\n",
    "\n",
    "# Evapotranspiration in MLD\n",
    "df_bhopal['Evapotranspiration in MLD'] = df_bhopal['Evap_tavg']*Upper_lake_area*86.4*10**(3)\n",
    "\n",
    "# Surface water runoff in MLD\n",
    "df_bhopal['Surface Water Runoff in MLD'] = df_bhopal['Qs_tavg']*Upper_lake_area*86.4*10**(3)\n",
    "\n",
    "# Change in storage (del S) in MLD\n",
    "df_bhopal['del_S'] = df_bhopal['Precipitation in MLD']-df_bhopal['Evapotranspiration in MLD']-df_bhopal['Surface Water Runoff in MLD']\n",
    "\n",
    "# Daily Quantity of water supplied in MLD\n",
    "df_bhopal['daily_water_volume'] = Storage + df_bhopal['del_S']"
   ]
  },
  {
   "cell_type": "code",
   "execution_count": 20,
   "id": "7b818423",
   "metadata": {},
   "outputs": [],
   "source": [
    "# Aggregate daily data to monthly level, Bhopal\n",
    "TARGET = 'daily_water_volume'\n",
    "df_bhopal['year'] = df_bhopal.index.year\n",
    "df_bhopal['month'] = df_bhopal.index.month\n",
    "df_bhopal_month_agg = df_bhopal.groupby(['year', 'month'])[TARGET].mean().reset_index()\n",
    "df_bhopal_month_agg['date_ym'] = df_bhopal_month_agg['year'].astype(str) + '-' + df_bhopal_month_agg['month'].astype(str)\n",
    "df_bhopal_month_agg.index = pd.to_datetime(df_bhopal_month_agg['date_ym'])\n",
    "df_bhopal_month_agg.resample('M').last()\n",
    "df_bhopal_month_agg=df_bhopal_month_agg[[TARGET]]\n",
    "df_bhopal_month_agg.head()\n",
    "df_bhopal_month_agg.to_csv('data/bhopal_month_agg_final.csv', index_label=False)"
   ]
  },
  {
   "cell_type": "code",
   "execution_count": 21,
   "id": "63110efb",
   "metadata": {},
   "outputs": [],
   "source": [
    "# Aggregate daily data to monthly level, Algeria\n",
    "df_algeria['year'] = df_algeria.index.year\n",
    "df_algeria['month'] = df_algeria.index.month\n",
    "df_algeria_month_agg = df_algeria.groupby(['year', 'month'])[TARGET].median().reset_index()\n",
    "df_algeria_month_agg['date_ym'] = df_algeria_month_agg['year'].astype(str) + '-' + df_algeria_month_agg['month'].astype(str)\n",
    "df_algeria_month_agg.index = pd.to_datetime(df_algeria_month_agg['date_ym'])\n",
    "df_algeria_month_agg.resample('M').last()\n",
    "df_algeria_month_agg=df_algeria_month_agg[[TARGET]]\n",
    "df_algeria_month_agg.head()\n",
    "df_algeria_month_agg.to_csv('data/algeria_month_agg_final.csv', index_label=False)"
   ]
  },
  {
   "cell_type": "code",
   "execution_count": null,
   "id": "f3159286",
   "metadata": {},
   "outputs": [],
   "source": []
  }
 ],
 "metadata": {
  "kernelspec": {
   "display_name": "Python [conda env:ts]",
   "language": "python",
   "name": "conda-env-ts-py"
  },
  "language_info": {
   "codemirror_mode": {
    "name": "ipython",
    "version": 3
   },
   "file_extension": ".py",
   "mimetype": "text/x-python",
   "name": "python",
   "nbconvert_exporter": "python",
   "pygments_lexer": "ipython3",
   "version": "3.11.7"
  },
  "toc": {
   "base_numbering": 1,
   "nav_menu": {},
   "number_sections": true,
   "sideBar": true,
   "skip_h1_title": false,
   "title_cell": "Table of Contents",
   "title_sidebar": "Contents",
   "toc_cell": false,
   "toc_position": {},
   "toc_section_display": true,
   "toc_window_display": false
  },
  "varInspector": {
   "cols": {
    "lenName": 16,
    "lenType": 16,
    "lenVar": 40
   },
   "kernels_config": {
    "python": {
     "delete_cmd_postfix": "",
     "delete_cmd_prefix": "del ",
     "library": "var_list.py",
     "varRefreshCmd": "print(var_dic_list())"
    },
    "r": {
     "delete_cmd_postfix": ") ",
     "delete_cmd_prefix": "rm(",
     "library": "var_list.r",
     "varRefreshCmd": "cat(var_dic_list()) "
    }
   },
   "types_to_exclude": [
    "module",
    "function",
    "builtin_function_or_method",
    "instance",
    "_Feature"
   ],
   "window_display": false
  }
 },
 "nbformat": 4,
 "nbformat_minor": 5
}
