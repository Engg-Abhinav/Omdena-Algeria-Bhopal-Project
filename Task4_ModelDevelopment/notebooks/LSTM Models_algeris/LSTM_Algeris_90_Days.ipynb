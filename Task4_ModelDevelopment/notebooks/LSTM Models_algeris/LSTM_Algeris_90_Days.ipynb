{
 "cells": [
  {
   "cell_type": "markdown",
   "metadata": {},
   "source": [
    "# **Model Development - Algeris - 90 Days**\n",
    "by: Argish Abhangi\n",
    "\n",
    "`Model info:` **120 Days** Prior data input ➡ lstm_model ➡ **90 days** ahead prediction output\n",
    "\n",
    "Model - `LSTM` <br>\n",
    "Trainig Metrics used - `MSE` <br> \n",
    "Optimizer used - `Adam` \n"
   ]
  },
  {
   "cell_type": "markdown",
   "metadata": {},
   "source": [
    "#### Importing Libraries"
   ]
  },
  {
   "cell_type": "code",
   "execution_count": 49,
   "metadata": {},
   "outputs": [],
   "source": [
    "import pandas as pd\n",
    "from sklearn.preprocessing import MinMaxScaler\n",
    "import numpy as np\n",
    "import torch\n",
    "import torch.nn as nn\n",
    "import matplotlib.pyplot as plt\n",
    "from sklearn.metrics import mean_squared_error, mean_absolute_error, root_mean_squared_error"
   ]
  },
  {
   "cell_type": "code",
   "execution_count": 50,
   "metadata": {},
   "outputs": [
    {
     "data": {
      "text/html": [
       "<div>\n",
       "<style scoped>\n",
       "    .dataframe tbody tr th:only-of-type {\n",
       "        vertical-align: middle;\n",
       "    }\n",
       "\n",
       "    .dataframe tbody tr th {\n",
       "        vertical-align: top;\n",
       "    }\n",
       "\n",
       "    .dataframe thead th {\n",
       "        text-align: right;\n",
       "    }\n",
       "</style>\n",
       "<table border=\"1\" class=\"dataframe\">\n",
       "  <thead>\n",
       "    <tr style=\"text-align: right;\">\n",
       "      <th></th>\n",
       "      <th>date</th>\n",
       "      <th>precipitation_sum (mm)</th>\n",
       "      <th>temperature_2m_above_ground</th>\n",
       "      <th>specific_humidity_2m_above_ground</th>\n",
       "      <th>relative_humidity_2m_above_ground</th>\n",
       "      <th>u_component_of_wind_10m_above_ground</th>\n",
       "      <th>v_component_of_wind_10m_above_ground</th>\n",
       "      <th>precipitable_water_entire_atmosphere</th>\n",
       "      <th>total_precipitation_surface</th>\n",
       "      <th>ACond_tavg</th>\n",
       "      <th>...</th>\n",
       "      <th>SnowDepth_tavg</th>\n",
       "      <th>SnowT_tavg</th>\n",
       "      <th>SoilMoist_P_tavg</th>\n",
       "      <th>SoilMoist_RZ_tavg</th>\n",
       "      <th>SoilMoist_S_tavg</th>\n",
       "      <th>SWE_tavg</th>\n",
       "      <th>Swnet_tavg</th>\n",
       "      <th>TVeg_tavg</th>\n",
       "      <th>TWS_tavg</th>\n",
       "      <th>water_availability</th>\n",
       "    </tr>\n",
       "  </thead>\n",
       "  <tbody>\n",
       "    <tr>\n",
       "      <th>0</th>\n",
       "      <td>2015-04-01</td>\n",
       "      <td>0.0</td>\n",
       "      <td>11.984259</td>\n",
       "      <td>0.007020</td>\n",
       "      <td>79.653691</td>\n",
       "      <td>-1.008622</td>\n",
       "      <td>-1.247756</td>\n",
       "      <td>11.792043</td>\n",
       "      <td>0.000000</td>\n",
       "      <td>0.023497</td>\n",
       "      <td>...</td>\n",
       "      <td>0.0</td>\n",
       "      <td>290.359024</td>\n",
       "      <td>935.768881</td>\n",
       "      <td>238.455282</td>\n",
       "      <td>4.762528</td>\n",
       "      <td>0.0</td>\n",
       "      <td>217.475818</td>\n",
       "      <td>0.000013</td>\n",
       "      <td>935.769155</td>\n",
       "      <td>-200.341947</td>\n",
       "    </tr>\n",
       "    <tr>\n",
       "      <th>1</th>\n",
       "      <td>2015-04-02</td>\n",
       "      <td>0.0</td>\n",
       "      <td>12.426162</td>\n",
       "      <td>0.006639</td>\n",
       "      <td>73.369087</td>\n",
       "      <td>-0.882894</td>\n",
       "      <td>-0.674852</td>\n",
       "      <td>10.580860</td>\n",
       "      <td>0.000000</td>\n",
       "      <td>0.032284</td>\n",
       "      <td>...</td>\n",
       "      <td>0.0</td>\n",
       "      <td>288.967108</td>\n",
       "      <td>933.417838</td>\n",
       "      <td>236.761384</td>\n",
       "      <td>4.734760</td>\n",
       "      <td>0.0</td>\n",
       "      <td>214.612400</td>\n",
       "      <td>0.000010</td>\n",
       "      <td>933.421715</td>\n",
       "      <td>-173.229781</td>\n",
       "    </tr>\n",
       "    <tr>\n",
       "      <th>2</th>\n",
       "      <td>2015-04-03</td>\n",
       "      <td>0.0</td>\n",
       "      <td>13.183237</td>\n",
       "      <td>0.007103</td>\n",
       "      <td>73.648926</td>\n",
       "      <td>-0.554821</td>\n",
       "      <td>-0.975509</td>\n",
       "      <td>13.224449</td>\n",
       "      <td>0.000000</td>\n",
       "      <td>0.021108</td>\n",
       "      <td>...</td>\n",
       "      <td>0.0</td>\n",
       "      <td>289.621761</td>\n",
       "      <td>931.212514</td>\n",
       "      <td>235.312021</td>\n",
       "      <td>4.710264</td>\n",
       "      <td>0.0</td>\n",
       "      <td>215.533733</td>\n",
       "      <td>0.000011</td>\n",
       "      <td>931.213284</td>\n",
       "      <td>-175.856488</td>\n",
       "    </tr>\n",
       "    <tr>\n",
       "      <th>3</th>\n",
       "      <td>2015-04-04</td>\n",
       "      <td>0.0</td>\n",
       "      <td>12.117507</td>\n",
       "      <td>0.006628</td>\n",
       "      <td>74.249417</td>\n",
       "      <td>-0.762048</td>\n",
       "      <td>-1.315288</td>\n",
       "      <td>11.899657</td>\n",
       "      <td>0.000000</td>\n",
       "      <td>0.022526</td>\n",
       "      <td>...</td>\n",
       "      <td>0.0</td>\n",
       "      <td>289.779312</td>\n",
       "      <td>929.087080</td>\n",
       "      <td>234.026542</td>\n",
       "      <td>4.696759</td>\n",
       "      <td>0.0</td>\n",
       "      <td>202.458474</td>\n",
       "      <td>0.000009</td>\n",
       "      <td>929.092368</td>\n",
       "      <td>-164.456208</td>\n",
       "    </tr>\n",
       "    <tr>\n",
       "      <th>4</th>\n",
       "      <td>2015-04-05</td>\n",
       "      <td>0.0</td>\n",
       "      <td>11.775280</td>\n",
       "      <td>0.006604</td>\n",
       "      <td>75.414558</td>\n",
       "      <td>-1.970064</td>\n",
       "      <td>-1.730378</td>\n",
       "      <td>13.397951</td>\n",
       "      <td>0.015292</td>\n",
       "      <td>0.027819</td>\n",
       "      <td>...</td>\n",
       "      <td>0.0</td>\n",
       "      <td>289.759368</td>\n",
       "      <td>926.925510</td>\n",
       "      <td>232.774424</td>\n",
       "      <td>4.638155</td>\n",
       "      <td>0.0</td>\n",
       "      <td>222.788846</td>\n",
       "      <td>0.000011</td>\n",
       "      <td>926.930220</td>\n",
       "      <td>-186.252044</td>\n",
       "    </tr>\n",
       "  </tbody>\n",
       "</table>\n",
       "<p>5 rows × 33 columns</p>\n",
       "</div>"
      ],
      "text/plain": [
       "         date  precipitation_sum (mm)  temperature_2m_above_ground  \\\n",
       "0  2015-04-01                     0.0                    11.984259   \n",
       "1  2015-04-02                     0.0                    12.426162   \n",
       "2  2015-04-03                     0.0                    13.183237   \n",
       "3  2015-04-04                     0.0                    12.117507   \n",
       "4  2015-04-05                     0.0                    11.775280   \n",
       "\n",
       "   specific_humidity_2m_above_ground  relative_humidity_2m_above_ground  \\\n",
       "0                           0.007020                          79.653691   \n",
       "1                           0.006639                          73.369087   \n",
       "2                           0.007103                          73.648926   \n",
       "3                           0.006628                          74.249417   \n",
       "4                           0.006604                          75.414558   \n",
       "\n",
       "   u_component_of_wind_10m_above_ground  v_component_of_wind_10m_above_ground  \\\n",
       "0                             -1.008622                             -1.247756   \n",
       "1                             -0.882894                             -0.674852   \n",
       "2                             -0.554821                             -0.975509   \n",
       "3                             -0.762048                             -1.315288   \n",
       "4                             -1.970064                             -1.730378   \n",
       "\n",
       "   precipitable_water_entire_atmosphere  total_precipitation_surface  \\\n",
       "0                             11.792043                     0.000000   \n",
       "1                             10.580860                     0.000000   \n",
       "2                             13.224449                     0.000000   \n",
       "3                             11.899657                     0.000000   \n",
       "4                             13.397951                     0.015292   \n",
       "\n",
       "   ACond_tavg  ...  SnowDepth_tavg  SnowT_tavg  SoilMoist_P_tavg  \\\n",
       "0    0.023497  ...             0.0  290.359024        935.768881   \n",
       "1    0.032284  ...             0.0  288.967108        933.417838   \n",
       "2    0.021108  ...             0.0  289.621761        931.212514   \n",
       "3    0.022526  ...             0.0  289.779312        929.087080   \n",
       "4    0.027819  ...             0.0  289.759368        926.925510   \n",
       "\n",
       "   SoilMoist_RZ_tavg  SoilMoist_S_tavg  SWE_tavg  Swnet_tavg  TVeg_tavg  \\\n",
       "0         238.455282          4.762528       0.0  217.475818   0.000013   \n",
       "1         236.761384          4.734760       0.0  214.612400   0.000010   \n",
       "2         235.312021          4.710264       0.0  215.533733   0.000011   \n",
       "3         234.026542          4.696759       0.0  202.458474   0.000009   \n",
       "4         232.774424          4.638155       0.0  222.788846   0.000011   \n",
       "\n",
       "     TWS_tavg  water_availability  \n",
       "0  935.769155         -200.341947  \n",
       "1  933.421715         -173.229781  \n",
       "2  931.213284         -175.856488  \n",
       "3  929.092368         -164.456208  \n",
       "4  926.930220         -186.252044  \n",
       "\n",
       "[5 rows x 33 columns]"
      ]
     },
     "execution_count": 50,
     "metadata": {},
     "output_type": "execute_result"
    }
   ],
   "source": [
    "# Load the training and testing datasets\n",
    "train_data_path = '../data/train_algiers.csv'\n",
    "test_data_path = '../data/test_algiers.csv'\n",
    "\n",
    "train_data = pd.read_csv(train_data_path)\n",
    "test_data = pd.read_csv(test_data_path)\n",
    "\n",
    "train_data.head()"
   ]
  },
  {
   "cell_type": "code",
   "execution_count": 51,
   "metadata": {},
   "outputs": [
    {
     "data": {
      "text/plain": [
       "Index(['date', 'precipitation_sum (mm)', 'temperature_2m_above_ground',\n",
       "       'specific_humidity_2m_above_ground',\n",
       "       'relative_humidity_2m_above_ground',\n",
       "       'u_component_of_wind_10m_above_ground',\n",
       "       'v_component_of_wind_10m_above_ground',\n",
       "       'precipitable_water_entire_atmosphere', 'total_precipitation_surface',\n",
       "       'ACond_tavg', 'AvgSurfT_tavg', 'CanopInt_tavg', 'ECanop_tavg',\n",
       "       'ESoil_tavg', 'EvapSnow_tavg', 'Evap_tavg', 'GWS_tavg', 'Lwnet_tavg',\n",
       "       'Qg_tavg', 'Qh_tavg', 'Qle_tavg', 'Qsm_tavg', 'Qs_tavg',\n",
       "       'SnowDepth_tavg', 'SnowT_tavg', 'SoilMoist_P_tavg', 'SoilMoist_RZ_tavg',\n",
       "       'SoilMoist_S_tavg', 'SWE_tavg', 'Swnet_tavg', 'TVeg_tavg', 'TWS_tavg',\n",
       "       'water_availability'],\n",
       "      dtype='object')"
      ]
     },
     "execution_count": 51,
     "metadata": {},
     "output_type": "execute_result"
    }
   ],
   "source": [
    "train_data.columns"
   ]
  },
  {
   "cell_type": "code",
   "execution_count": 52,
   "metadata": {},
   "outputs": [
    {
     "data": {
      "text/plain": [
       "33"
      ]
     },
     "execution_count": 52,
     "metadata": {},
     "output_type": "execute_result"
    }
   ],
   "source": [
    "len(train_data.columns)"
   ]
  },
  {
   "cell_type": "markdown",
   "metadata": {},
   "source": [
    "#### Data Transformation and Normalization"
   ]
  },
  {
   "cell_type": "code",
   "execution_count": 53,
   "metadata": {},
   "outputs": [],
   "source": [
    "# Convert 'date' to datetime and set as index\n",
    "train_data['date'] = pd.to_datetime(train_data['date'])\n",
    "test_data['date'] = pd.to_datetime(test_data['date'])\n",
    "train_data.set_index('date', inplace=True)\n",
    "test_data.set_index('date', inplace=True)"
   ]
  },
  {
   "cell_type": "code",
   "execution_count": 54,
   "metadata": {},
   "outputs": [],
   "source": [
    "# Normalizing the data\n",
    "scaler = MinMaxScaler(feature_range=(0, 1))\n",
    "train_scaled = scaler.fit_transform(train_data)\n",
    "test_scaled = scaler.transform(test_data)\n",
    "\n",
    "# Convert scaled data back to DataFrame for easier handling\n",
    "train_scaled_df = pd.DataFrame(train_scaled, columns=train_data.columns, index=train_data.index)\n",
    "test_scaled_df = pd.DataFrame(test_scaled, columns=test_data.columns, index=test_data.index)"
   ]
  },
  {
   "cell_type": "code",
   "execution_count": 55,
   "metadata": {},
   "outputs": [
    {
     "data": {
      "text/plain": [
       "((2251, 110, 31), (2251, 90), (346, 110, 31), (346, 90))"
      ]
     },
     "execution_count": 55,
     "metadata": {},
     "output_type": "execute_result"
    }
   ],
   "source": [
    "def create_dataset(X, y, time_steps_in=1, time_steps_out=1):\n",
    "    \"\"\"\n",
    "    Create a dataset for LSTM with specified number of input and output time steps.\n",
    "    \n",
    "    :param X: Input features\n",
    "    :param y: Target feature\n",
    "    :param time_steps_in: Number of time steps to use as input\n",
    "    :param time_steps_out: Number of time steps to predict\n",
    "    :return: reshaped input and output for LSTM model\n",
    "    \"\"\"\n",
    "    Xs, ys = [], []\n",
    "    for i in range(len(X) - time_steps_in - time_steps_out + 1):\n",
    "        v = X.iloc[i:(i + time_steps_in)].values\n",
    "        Xs.append(v)\n",
    "        ys.append(y.iloc[i + time_steps_in:i + time_steps_in + time_steps_out].values)\n",
    "    \n",
    "    return np.array(Xs), np.array(ys)\n",
    "\n",
    "# Number of time steps for input and output\n",
    "# Change time_steps_out to jump the prediction that many days ahead.\n",
    "time_steps_in, time_steps_out = 110, 90\n",
    "\n",
    "X_train, y_train = create_dataset(train_scaled_df.drop('water_availability', axis=1), train_scaled_df['water_availability'], time_steps_in, time_steps_out)\n",
    "X_test, y_test = create_dataset(test_scaled_df.drop('water_availability', axis=1), test_scaled_df['water_availability'], time_steps_in, time_steps_out)\n",
    "\n",
    "X_train.shape, y_train.shape, X_test.shape, y_test.shape"
   ]
  },
  {
   "cell_type": "markdown",
   "metadata": {},
   "source": [
    "### **Model Training**"
   ]
  },
  {
   "cell_type": "code",
   "execution_count": 56,
   "metadata": {},
   "outputs": [],
   "source": [
    "# Check if GPU is available and set the device accordingly\n",
    "device = torch.device(\"cuda\" if torch.cuda.is_available() else \"cpu\")\n",
    "device.index"
   ]
  },
  {
   "cell_type": "code",
   "execution_count": 57,
   "metadata": {},
   "outputs": [
    {
     "data": {
      "text/plain": [
       "LSTMModel(\n",
       "  (lstm): LSTM(31, 65, batch_first=True)\n",
       "  (linear): Linear(in_features=65, out_features=90, bias=True)\n",
       ")"
      ]
     },
     "execution_count": 57,
     "metadata": {},
     "output_type": "execute_result"
    }
   ],
   "source": [
    "# Define the LSTM model\n",
    "class LSTMModel(nn.Module):\n",
    "    def __init__(self, input_size, hidden_layer_size, output_size, num_layers=1):\n",
    "        super(LSTMModel, self).__init__()\n",
    "        self.hidden_layer_size = hidden_layer_size\n",
    "        self.num_layers = num_layers\n",
    "        self.lstm = nn.LSTM(input_size, hidden_layer_size, num_layers, batch_first=True)\n",
    "        self.linear = nn.Linear(hidden_layer_size, output_size)\n",
    "\n",
    "    def forward(self, x):\n",
    "        h_0 = torch.zeros(self.num_layers, x.size(0), self.hidden_layer_size).to(device)\n",
    "        c_0 = torch.zeros(self.num_layers, x.size(0), self.hidden_layer_size).to(device)\n",
    "        \n",
    "        output, (hn, cn) = self.lstm(x, (h_0, c_0))\n",
    "        hn = hn.view(-1, self.hidden_layer_size)\n",
    "        out = self.linear(hn)\n",
    "        return out\n",
    "\n",
    "# Model parameters\n",
    "input_size = 31  # Number of features\n",
    "hidden_layer_size = 65  # Can be modified to optimize performance\n",
    "output_size = time_steps_out  # Predicting x time steps into the future\n",
    "\n",
    "# Instantiate the model\n",
    "model = LSTMModel(input_size, hidden_layer_size, output_size)\n",
    "model.to(device)\n",
    "\n",
    "model"
   ]
  },
  {
   "cell_type": "code",
   "execution_count": 58,
   "metadata": {},
   "outputs": [],
   "source": [
    "# Training parameters\n",
    "learning_rate = 0.0001\n",
    "num_epochs = 400  \n",
    "\n",
    "# Loss function and optimizer\n",
    "criterion = nn.MSELoss()\n",
    "optimizer = torch.optim.Adam(model.parameters(), lr=learning_rate)\n",
    "\n",
    "# Convert data to PyTorch tensors\n",
    "X_train_tensor = torch.tensor(X_train, dtype=torch.float32).to(device)\n",
    "y_train_tensor = torch.tensor(y_train, dtype=torch.float32).to(device)\n",
    "X_test_tensor = torch.tensor(X_test, dtype=torch.float32).to(device)\n",
    "y_test_tensor = torch.tensor(y_test, dtype=torch.float32).to(device)"
   ]
  },
  {
   "cell_type": "code",
   "execution_count": 59,
   "metadata": {},
   "outputs": [
    {
     "name": "stdout",
     "output_type": "stream",
     "text": [
      "Epoch [10/400], Loss: 0.0251\n",
      "Epoch [20/400], Loss: 0.0234\n",
      "Epoch [30/400], Loss: 0.0218\n",
      "Epoch [40/400], Loss: 0.0203\n",
      "Epoch [50/400], Loss: 0.0188\n",
      "Epoch [60/400], Loss: 0.0174\n",
      "Epoch [70/400], Loss: 0.0160\n",
      "Epoch [80/400], Loss: 0.0146\n",
      "Epoch [90/400], Loss: 0.0133\n",
      "Epoch [100/400], Loss: 0.0121\n",
      "Epoch [110/400], Loss: 0.0111\n",
      "Epoch [120/400], Loss: 0.0103\n",
      "Epoch [130/400], Loss: 0.0097\n",
      "Epoch [140/400], Loss: 0.0092\n",
      "Epoch [150/400], Loss: 0.0089\n",
      "Epoch [160/400], Loss: 0.0087\n",
      "Epoch [170/400], Loss: 0.0085\n",
      "Epoch [180/400], Loss: 0.0084\n",
      "Epoch [190/400], Loss: 0.0083\n",
      "Epoch [200/400], Loss: 0.0082\n",
      "Epoch [210/400], Loss: 0.0081\n",
      "Epoch [220/400], Loss: 0.0081\n",
      "Epoch [230/400], Loss: 0.0080\n",
      "Epoch [240/400], Loss: 0.0080\n",
      "Epoch [250/400], Loss: 0.0079\n",
      "Epoch [260/400], Loss: 0.0079\n",
      "Epoch [270/400], Loss: 0.0079\n",
      "Epoch [280/400], Loss: 0.0078\n",
      "Epoch [290/400], Loss: 0.0078\n",
      "Epoch [300/400], Loss: 0.0077\n",
      "Epoch [310/400], Loss: 0.0077\n",
      "Epoch [320/400], Loss: 0.0077\n",
      "Epoch [330/400], Loss: 0.0076\n",
      "Epoch [340/400], Loss: 0.0076\n",
      "Epoch [350/400], Loss: 0.0076\n",
      "Epoch [360/400], Loss: 0.0075\n",
      "Epoch [370/400], Loss: 0.0075\n",
      "Epoch [380/400], Loss: 0.0075\n",
      "Epoch [390/400], Loss: 0.0075\n",
      "Epoch [400/400], Loss: 0.0074\n"
     ]
    },
    {
     "data": {
      "text/plain": [
       "'Model training complete and model saved.'"
      ]
     },
     "execution_count": 59,
     "metadata": {},
     "output_type": "execute_result"
    }
   ],
   "source": [
    "# Training loop\n",
    "for epoch in range(num_epochs):\n",
    "    model.train()\n",
    "    optimizer.zero_grad()\n",
    "    output = model(X_train_tensor)\n",
    "    loss = criterion(output, y_train_tensor)\n",
    "    loss.backward()\n",
    "    optimizer.step()\n",
    "\n",
    "    if (epoch+1) % 10 == 0:\n",
    "        print(f'Epoch [{epoch+1}/{num_epochs}], Loss: {loss.item():.4f}')\n",
    "\n",
    "# UnComment to save the model\n",
    "# torch.save(model.state_dict(), './trained_model/MPIMO_LSTM_90_Days.pt')\n",
    "\n",
    "\"Model training complete and model saved.\""
   ]
  },
  {
   "cell_type": "markdown",
   "metadata": {},
   "source": [
    "### **Evaluating the model**"
   ]
  },
  {
   "cell_type": "code",
   "execution_count": 60,
   "metadata": {},
   "outputs": [
    {
     "data": {
      "text/plain": [
       "0.002925113309174776"
      ]
     },
     "execution_count": 60,
     "metadata": {},
     "output_type": "execute_result"
    }
   ],
   "source": [
    "model.eval()\n",
    "with torch.no_grad():\n",
    "    test_predictions = model(X_test_tensor)\n",
    "    test_loss = criterion(test_predictions, y_test_tensor)\n",
    "\n",
    "test_loss.item()"
   ]
  },
  {
   "cell_type": "markdown",
   "metadata": {},
   "source": [
    "#### Metrics before inverse transform"
   ]
  },
  {
   "cell_type": "code",
   "execution_count": 61,
   "metadata": {},
   "outputs": [
    {
     "name": "stdout",
     "output_type": "stream",
     "text": [
      "mse: 0.0029\n",
      "mae: 0.0409\n",
      "rmse: 0.0537\n"
     ]
    }
   ],
   "source": [
    "test_predictions_np = test_predictions.detach().cpu().numpy()\n",
    "\n",
    "mse = mean_squared_error(y_test, test_predictions_np)\n",
    "rmse = root_mean_squared_error(y_test, test_predictions_np)\n",
    "mae = mean_absolute_error(y_test, test_predictions_np)\n",
    "\n",
    "print(f\"mse: {mse:.4f}\")\n",
    "print(f\"mae: {mae:.4f}\")\n",
    "print(f\"rmse: {rmse:.4f}\")"
   ]
  },
  {
   "cell_type": "markdown",
   "metadata": {},
   "source": [
    "#### Inverse Transforming predictions and y_test"
   ]
  },
  {
   "cell_type": "code",
   "execution_count": 62,
   "metadata": {},
   "outputs": [],
   "source": [
    "num_features = train_data.shape[1] \n",
    "\n",
    "last_step_predictions = test_predictions.detach().cpu().numpy()[:, -1]\n",
    "dummies = np.zeros((last_step_predictions.shape[0], num_features))\n",
    "dummies[:, -1] = last_step_predictions\n",
    "dummies_transformed = scaler.inverse_transform(dummies)\n",
    "inverse_transformed_test_predictions = dummies_transformed[:, -1]\n",
    "\n",
    "y_test_last_step = y_test[:, -1]\n",
    "y_test_dummies = np.zeros((y_test.shape[0], num_features))\n",
    "y_test_dummies[:, -1] = y_test_last_step\n",
    "y_test_dummies_transformed = scaler.inverse_transform(y_test_dummies)\n",
    "inverse_transformed_y_test = y_test_dummies_transformed[:, -1]\n"
   ]
  },
  {
   "cell_type": "markdown",
   "metadata": {},
   "source": [
    "####  Visualizing the results"
   ]
  },
  {
   "cell_type": "code",
   "execution_count": 63,
   "metadata": {},
   "outputs": [
    {
     "data": {
      "image/png": "[encoded data removed]",
      "text/plain": [
       "<Figure size 1500x600 with 1 Axes>"
      ]
     },
     "metadata": {},
     "output_type": "display_data"
    }
   ],
   "source": [
    "plt.figure(figsize=(15, 6))\n",
    "plt.plot(inverse_transformed_y_test, label='Actual Water Availability', color='blue', alpha=0.8)  # Use inverse transformed data\n",
    "plt.plot(inverse_transformed_test_predictions, label='Predicted Water Availability', color='red', alpha=0.5)\n",
    "plt.title('Water Availability Prediction')\n",
    "plt.xlabel('Time Step')\n",
    "plt.ylabel('Water Availability')\n",
    "plt.legend()\n",
    "plt.show()"
   ]
  },
  {
   "cell_type": "markdown",
   "metadata": {},
   "source": [
    "#### Metrics after inverse transform"
   ]
  },
  {
   "cell_type": "code",
   "execution_count": 64,
   "metadata": {},
   "outputs": [
    {
     "name": "stdout",
     "output_type": "stream",
     "text": [
      "mse: 31940.8612\n",
      "mae: 136.8677\n",
      "rmse: 178.7201\n"
     ]
    }
   ],
   "source": [
    "mse = mean_squared_error(inverse_transformed_y_test, inverse_transformed_test_predictions)\n",
    "rmse = root_mean_squared_error(inverse_transformed_y_test, inverse_transformed_test_predictions)\n",
    "mae = mean_absolute_error(inverse_transformed_y_test, inverse_transformed_test_predictions)\n",
    "\n",
    "print(f\"mse: {mse:.4f}\")\n",
    "print(f\"mae: {mae:.4f}\")\n",
    "print(f\"rmse: {rmse:.4f}\")"
   ]
  }
 ],
 "metadata": {
  "kernelspec": {
   "display_name": ".venv",
   "language": "python",
   "name": "python3"
  },
  "language_info": {
   "codemirror_mode": {
    "name": "ipython",
    "version": 3
   },
   "file_extension": ".py",
   "mimetype": "text/x-python",
   "name": "python",
   "nbconvert_exporter": "python",
   "pygments_lexer": "ipython3",
   "version": "3.10.6"
  }
 },
 "nbformat": 4,
 "nbformat_minor": 2
}
