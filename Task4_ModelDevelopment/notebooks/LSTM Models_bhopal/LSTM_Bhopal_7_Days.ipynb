{
 "cells": [
  {
   "cell_type": "markdown",
   "metadata": {},
   "source": [
    "# **Model Development - Bhopal Data - 7 Days**\n",
    "by: Argish Abhangi\n",
    "\n",
    "`Model info:` **14 Days** Prior data input ➡ lstm_model ➡ **7 days** ahead prediction output\n",
    "\n",
    "Model - `MPIMO LSTM` (Multiple Parallel Input & Multiple Output) <br>\n",
    "Trainig Metrics used - `MSE` <br> \n",
    "Optimizer used - `Adam` \n"
   ]
  },
  {
   "cell_type": "markdown",
   "metadata": {},
   "source": [
    "#### Importing Libraries"
   ]
  },
  {
   "cell_type": "code",
   "execution_count": 211,
   "metadata": {},
   "outputs": [],
   "source": [
    "import pandas as pd\n",
    "from sklearn.preprocessing import MinMaxScaler\n",
    "import numpy as np\n",
    "import torch\n",
    "import torch.nn as nn\n",
    "import matplotlib.pyplot as plt\n",
    "from sklearn.metrics import mean_squared_error, mean_absolute_error, root_mean_squared_error"
   ]
  },
  {
   "cell_type": "code",
   "execution_count": 212,
   "metadata": {},
   "outputs": [
    {
     "data": {
      "text/html": [
       "<div>\n",
       "<style scoped>\n",
       "    .dataframe tbody tr th:only-of-type {\n",
       "        vertical-align: middle;\n",
       "    }\n",
       "\n",
       "    .dataframe tbody tr th {\n",
       "        vertical-align: top;\n",
       "    }\n",
       "\n",
       "    .dataframe thead th {\n",
       "        text-align: right;\n",
       "    }\n",
       "</style>\n",
       "<table border=\"1\" class=\"dataframe\">\n",
       "  <thead>\n",
       "    <tr style=\"text-align: right;\">\n",
       "      <th></th>\n",
       "      <th>date</th>\n",
       "      <th>temperature_2m_above_ground</th>\n",
       "      <th>specific_humidity_2m_above_ground</th>\n",
       "      <th>relative_humidity_2m_above_ground</th>\n",
       "      <th>u_component_of_wind_10m_above_ground</th>\n",
       "      <th>v_component_of_wind_10m_above_ground</th>\n",
       "      <th>precipitable_water_entire_atmosphere</th>\n",
       "      <th>total_precipitation_surface</th>\n",
       "      <th>ACond_tavg</th>\n",
       "      <th>AvgSurfT_tavg</th>\n",
       "      <th>...</th>\n",
       "      <th>Qs_tavg</th>\n",
       "      <th>SnowT_tavg</th>\n",
       "      <th>SoilMoist_P_tavg</th>\n",
       "      <th>SoilMoist_RZ_tavg</th>\n",
       "      <th>SoilMoist_S_tavg</th>\n",
       "      <th>Swnet_tavg</th>\n",
       "      <th>TVeg_tavg</th>\n",
       "      <th>TWS_tavg</th>\n",
       "      <th>precipitation_sum</th>\n",
       "      <th>Water_availability</th>\n",
       "    </tr>\n",
       "  </thead>\n",
       "  <tbody>\n",
       "    <tr>\n",
       "      <th>0</th>\n",
       "      <td>2015-04-01</td>\n",
       "      <td>31.381519</td>\n",
       "      <td>0.005640</td>\n",
       "      <td>19.084161</td>\n",
       "      <td>4.671449</td>\n",
       "      <td>-0.277626</td>\n",
       "      <td>19.053919</td>\n",
       "      <td>0.0</td>\n",
       "      <td>0.009535</td>\n",
       "      <td>301.828791</td>\n",
       "      <td>...</td>\n",
       "      <td>0.000000e+00</td>\n",
       "      <td>301.828791</td>\n",
       "      <td>1153.966420</td>\n",
       "      <td>275.946408</td>\n",
       "      <td>4.782809</td>\n",
       "      <td>223.362352</td>\n",
       "      <td>6.349899e-07</td>\n",
       "      <td>1153.966582</td>\n",
       "      <td>0.0</td>\n",
       "      <td>-112.673746</td>\n",
       "    </tr>\n",
       "    <tr>\n",
       "      <th>1</th>\n",
       "      <td>2015-04-02</td>\n",
       "      <td>31.612318</td>\n",
       "      <td>0.006702</td>\n",
       "      <td>22.664057</td>\n",
       "      <td>5.663895</td>\n",
       "      <td>-0.951907</td>\n",
       "      <td>19.920647</td>\n",
       "      <td>0.0</td>\n",
       "      <td>0.011490</td>\n",
       "      <td>302.765242</td>\n",
       "      <td>...</td>\n",
       "      <td>0.000000e+00</td>\n",
       "      <td>302.765242</td>\n",
       "      <td>1151.749923</td>\n",
       "      <td>274.617967</td>\n",
       "      <td>4.659694</td>\n",
       "      <td>221.923497</td>\n",
       "      <td>4.469356e-07</td>\n",
       "      <td>1151.749969</td>\n",
       "      <td>0.0</td>\n",
       "      <td>-111.269587</td>\n",
       "    </tr>\n",
       "    <tr>\n",
       "      <th>2</th>\n",
       "      <td>2015-04-03</td>\n",
       "      <td>30.854070</td>\n",
       "      <td>0.006804</td>\n",
       "      <td>23.969701</td>\n",
       "      <td>5.704286</td>\n",
       "      <td>-0.857162</td>\n",
       "      <td>19.664423</td>\n",
       "      <td>0.0</td>\n",
       "      <td>0.012793</td>\n",
       "      <td>303.068777</td>\n",
       "      <td>...</td>\n",
       "      <td>0.000000e+00</td>\n",
       "      <td>303.068777</td>\n",
       "      <td>1149.649158</td>\n",
       "      <td>273.428841</td>\n",
       "      <td>4.484641</td>\n",
       "      <td>218.171090</td>\n",
       "      <td>3.210499e-07</td>\n",
       "      <td>1149.649124</td>\n",
       "      <td>0.0</td>\n",
       "      <td>-106.525412</td>\n",
       "    </tr>\n",
       "    <tr>\n",
       "      <th>3</th>\n",
       "      <td>2015-04-04</td>\n",
       "      <td>30.046127</td>\n",
       "      <td>0.008165</td>\n",
       "      <td>30.080859</td>\n",
       "      <td>2.575579</td>\n",
       "      <td>-1.547093</td>\n",
       "      <td>24.770628</td>\n",
       "      <td>0.0</td>\n",
       "      <td>0.014474</td>\n",
       "      <td>302.893081</td>\n",
       "      <td>...</td>\n",
       "      <td>0.000000e+00</td>\n",
       "      <td>302.893081</td>\n",
       "      <td>1147.826225</td>\n",
       "      <td>272.525414</td>\n",
       "      <td>4.354961</td>\n",
       "      <td>217.789598</td>\n",
       "      <td>2.082960e-07</td>\n",
       "      <td>1147.826188</td>\n",
       "      <td>0.0</td>\n",
       "      <td>-90.917171</td>\n",
       "    </tr>\n",
       "    <tr>\n",
       "      <th>4</th>\n",
       "      <td>2015-04-05</td>\n",
       "      <td>30.523074</td>\n",
       "      <td>0.007366</td>\n",
       "      <td>26.557658</td>\n",
       "      <td>-0.549178</td>\n",
       "      <td>-0.442961</td>\n",
       "      <td>23.765168</td>\n",
       "      <td>0.0</td>\n",
       "      <td>0.010641</td>\n",
       "      <td>302.875925</td>\n",
       "      <td>...</td>\n",
       "      <td>1.183570e-09</td>\n",
       "      <td>302.875925</td>\n",
       "      <td>1146.413800</td>\n",
       "      <td>272.040991</td>\n",
       "      <td>4.340641</td>\n",
       "      <td>175.870913</td>\n",
       "      <td>1.475418e-07</td>\n",
       "      <td>1146.414677</td>\n",
       "      <td>0.0</td>\n",
       "      <td>-82.613718</td>\n",
       "    </tr>\n",
       "  </tbody>\n",
       "</table>\n",
       "<p>5 rows × 29 columns</p>\n",
       "</div>"
      ],
      "text/plain": [
       "         date  temperature_2m_above_ground  specific_humidity_2m_above_ground  \\\n",
       "0  2015-04-01                    31.381519                           0.005640   \n",
       "1  2015-04-02                    31.612318                           0.006702   \n",
       "2  2015-04-03                    30.854070                           0.006804   \n",
       "3  2015-04-04                    30.046127                           0.008165   \n",
       "4  2015-04-05                    30.523074                           0.007366   \n",
       "\n",
       "   relative_humidity_2m_above_ground  u_component_of_wind_10m_above_ground  \\\n",
       "0                          19.084161                              4.671449   \n",
       "1                          22.664057                              5.663895   \n",
       "2                          23.969701                              5.704286   \n",
       "3                          30.080859                              2.575579   \n",
       "4                          26.557658                             -0.549178   \n",
       "\n",
       "   v_component_of_wind_10m_above_ground  precipitable_water_entire_atmosphere  \\\n",
       "0                             -0.277626                             19.053919   \n",
       "1                             -0.951907                             19.920647   \n",
       "2                             -0.857162                             19.664423   \n",
       "3                             -1.547093                             24.770628   \n",
       "4                             -0.442961                             23.765168   \n",
       "\n",
       "   total_precipitation_surface  ACond_tavg  AvgSurfT_tavg  ...       Qs_tavg  \\\n",
       "0                          0.0    0.009535     301.828791  ...  0.000000e+00   \n",
       "1                          0.0    0.011490     302.765242  ...  0.000000e+00   \n",
       "2                          0.0    0.012793     303.068777  ...  0.000000e+00   \n",
       "3                          0.0    0.014474     302.893081  ...  0.000000e+00   \n",
       "4                          0.0    0.010641     302.875925  ...  1.183570e-09   \n",
       "\n",
       "   SnowT_tavg  SoilMoist_P_tavg  SoilMoist_RZ_tavg  SoilMoist_S_tavg  \\\n",
       "0  301.828791       1153.966420         275.946408          4.782809   \n",
       "1  302.765242       1151.749923         274.617967          4.659694   \n",
       "2  303.068777       1149.649158         273.428841          4.484641   \n",
       "3  302.893081       1147.826225         272.525414          4.354961   \n",
       "4  302.875925       1146.413800         272.040991          4.340641   \n",
       "\n",
       "   Swnet_tavg     TVeg_tavg     TWS_tavg  precipitation_sum  \\\n",
       "0  223.362352  6.349899e-07  1153.966582                0.0   \n",
       "1  221.923497  4.469356e-07  1151.749969                0.0   \n",
       "2  218.171090  3.210499e-07  1149.649124                0.0   \n",
       "3  217.789598  2.082960e-07  1147.826188                0.0   \n",
       "4  175.870913  1.475418e-07  1146.414677                0.0   \n",
       "\n",
       "   Water_availability  \n",
       "0         -112.673746  \n",
       "1         -111.269587  \n",
       "2         -106.525412  \n",
       "3          -90.917171  \n",
       "4          -82.613718  \n",
       "\n",
       "[5 rows x 29 columns]"
      ]
     },
     "execution_count": 212,
     "metadata": {},
     "output_type": "execute_result"
    }
   ],
   "source": [
    "# Load the new datasets for Bhopal city\n",
    "train_data_path = '../data/train_bhopal_final.csv'\n",
    "test_data_path = '../data/test_bhopal_final.csv'\n",
    "\n",
    "train_data = pd.read_csv(train_data_path)\n",
    "test_data = pd.read_csv(test_data_path)\n",
    "\n",
    "train_data.head()"
   ]
  },
  {
   "cell_type": "code",
   "execution_count": 213,
   "metadata": {},
   "outputs": [
    {
     "data": {
      "text/plain": [
       "Index(['date', 'temperature_2m_above_ground',\n",
       "       'specific_humidity_2m_above_ground',\n",
       "       'relative_humidity_2m_above_ground',\n",
       "       'u_component_of_wind_10m_above_ground',\n",
       "       'v_component_of_wind_10m_above_ground',\n",
       "       'precipitable_water_entire_atmosphere', 'total_precipitation_surface',\n",
       "       'ACond_tavg', 'AvgSurfT_tavg', 'CanopInt_tavg', 'ECanop_tavg',\n",
       "       'ESoil_tavg', 'Evap_tavg', 'GWS_tavg', 'Lwnet_tavg', 'Qg_tavg',\n",
       "       'Qh_tavg', 'Qle_tavg', 'Qs_tavg', 'SnowT_tavg', 'SoilMoist_P_tavg',\n",
       "       'SoilMoist_RZ_tavg', 'SoilMoist_S_tavg', 'Swnet_tavg', 'TVeg_tavg',\n",
       "       'TWS_tavg', 'precipitation_sum', 'Water_availability'],\n",
       "      dtype='object')"
      ]
     },
     "execution_count": 213,
     "metadata": {},
     "output_type": "execute_result"
    }
   ],
   "source": [
    "train_data.columns "
   ]
  },
  {
   "cell_type": "code",
   "execution_count": 214,
   "metadata": {},
   "outputs": [
    {
     "data": {
      "text/plain": [
       "29"
      ]
     },
     "execution_count": 214,
     "metadata": {},
     "output_type": "execute_result"
    }
   ],
   "source": [
    "len(train_data.columns)"
   ]
  },
  {
   "cell_type": "markdown",
   "metadata": {},
   "source": [
    "#### Data Transformation and Normalization"
   ]
  },
  {
   "cell_type": "code",
   "execution_count": 215,
   "metadata": {},
   "outputs": [],
   "source": [
    "# Convert 'date' to datetime and set as index (assuming similar structure as the Algiers dataset)\n",
    "train_data['date'] = pd.to_datetime(train_data['date'])\n",
    "test_data['date'] = pd.to_datetime(test_data['date'])\n",
    "train_data.set_index('date', inplace=True)\n",
    "test_data.set_index('date', inplace=True)\n",
    "\n",
    "# Check for missing values\n",
    "missing_values_train_data = train_data.isnull().sum()\n",
    "missing_values_test_data = test_data.isnull().sum()\n",
    "\n",
    "# Normalizing the data\n",
    "scaler = MinMaxScaler(feature_range=(0, 1))\n",
    "train_scaled = scaler.fit_transform(train_data)\n",
    "test_scaled = scaler.transform(test_data)\n",
    "\n",
    "# Convert scaled data back to DataFrame for easier handling\n",
    "train_scaled_df = pd.DataFrame(train_scaled, columns=train_data.columns, index=train_data.index)\n",
    "test_scaled_df = pd.DataFrame(test_scaled, columns=test_data.columns, index=test_data.index)"
   ]
  },
  {
   "cell_type": "code",
   "execution_count": 216,
   "metadata": {},
   "outputs": [
    {
     "data": {
      "text/plain": [
       "((2402, 14, 27), (2402, 7), (525, 14, 27), (525, 7))"
      ]
     },
     "execution_count": 216,
     "metadata": {},
     "output_type": "execute_result"
    }
   ],
   "source": [
    "def create_dataset(X, y, time_steps_in=1, time_steps_out=1):\n",
    "    \"\"\"\n",
    "    Create a dataset for LSTM with specified number of input and output time steps.\n",
    "    \n",
    "    :param X: Input features\n",
    "    :param y: Target feature\n",
    "    :param time_steps_in: Number of time steps to use as input\n",
    "    :param time_steps_out: Number of time steps to predict\n",
    "    :return: reshaped input and output for LSTM model\n",
    "    \"\"\"\n",
    "    Xs, ys = [], []\n",
    "    for i in range(len(X) - time_steps_in - time_steps_out + 1):\n",
    "        v = X.iloc[i:(i + time_steps_in)].values\n",
    "        Xs.append(v)\n",
    "        ys.append(y.iloc[i + time_steps_in:i + time_steps_in + time_steps_out].values)\n",
    "    \n",
    "    return np.array(Xs), np.array(ys)\n",
    "\n",
    "# Number of time steps for input and output\n",
    "time_steps_in, time_steps_out = 14, 7\n",
    "\n",
    "X_train, y_train = create_dataset(train_scaled_df.drop('Water_availability', axis=1), train_scaled_df['Water_availability'], time_steps_in, time_steps_out)\n",
    "X_test, y_test = create_dataset(test_scaled_df.drop('Water_availability', axis=1), test_scaled_df['Water_availability'], time_steps_in, time_steps_out)\n",
    "\n",
    "X_train.shape, y_train.shape, X_test.shape, y_test.shape"
   ]
  },
  {
   "cell_type": "markdown",
   "metadata": {},
   "source": [
    "### **Model Training**"
   ]
  },
  {
   "cell_type": "code",
   "execution_count": 217,
   "metadata": {},
   "outputs": [
    {
     "data": {
      "text/plain": [
       "device(type='cuda')"
      ]
     },
     "execution_count": 217,
     "metadata": {},
     "output_type": "execute_result"
    }
   ],
   "source": [
    "# Check if GPU is available and set the device accordingly\n",
    "device = torch.device(\"cuda\" if torch.cuda.is_available() else \"cpu\")\n",
    "device"
   ]
  },
  {
   "cell_type": "code",
   "execution_count": 218,
   "metadata": {},
   "outputs": [
    {
     "data": {
      "text/plain": [
       "LSTMModel(\n",
       "  (lstm): LSTM(27, 50, batch_first=True)\n",
       "  (linear): Linear(in_features=50, out_features=7, bias=True)\n",
       ")"
      ]
     },
     "execution_count": 218,
     "metadata": {},
     "output_type": "execute_result"
    }
   ],
   "source": [
    "# Define the LSTM model\n",
    "class LSTMModel(nn.Module):\n",
    "    def __init__(self, input_size, hidden_layer_size, output_size, num_layers=1):\n",
    "        super(LSTMModel, self).__init__()\n",
    "        self.hidden_layer_size = hidden_layer_size\n",
    "        self.num_layers = num_layers\n",
    "        self.lstm = nn.LSTM(input_size, hidden_layer_size, num_layers, batch_first=True)\n",
    "        self.linear = nn.Linear(hidden_layer_size, output_size)\n",
    "\n",
    "    def forward(self, x):\n",
    "        h_0 = torch.zeros(self.num_layers, x.size(0), self.hidden_layer_size).to(device)\n",
    "        c_0 = torch.zeros(self.num_layers, x.size(0), self.hidden_layer_size).to(device)\n",
    "        \n",
    "        output, (hn, cn) = self.lstm(x, (h_0, c_0))\n",
    "        hn = hn.view(-1, self.hidden_layer_size)\n",
    "        out = self.linear(hn)\n",
    "        return out\n",
    "\n",
    "# Model parameters\n",
    "input_size = 27  # Number of features\n",
    "hidden_layer_size = 50  \n",
    "output_size = time_steps_out \n",
    "\n",
    "# Instantiate the model\n",
    "model = LSTMModel(input_size, hidden_layer_size, output_size)\n",
    "model.to(device)\n",
    "\n",
    "model"
   ]
  },
  {
   "cell_type": "code",
   "execution_count": 219,
   "metadata": {},
   "outputs": [],
   "source": [
    "# Training parameters\n",
    "learning_rate = 0.0001\n",
    "num_epochs = 400 \n",
    "\n",
    "# Loss function and optimizer\n",
    "criterion = nn.MSELoss()\n",
    "optimizer = torch.optim.Adam(model.parameters(), lr=learning_rate)\n",
    "\n",
    "# Convert data to PyTorch tensors\n",
    "X_train_tensor = torch.tensor(X_train, dtype=torch.float32).to(device)\n",
    "y_train_tensor = torch.tensor(y_train, dtype=torch.float32).to(device)\n",
    "X_test_tensor = torch.tensor(X_test, dtype=torch.float32).to(device)\n",
    "y_test_tensor = torch.tensor(y_test, dtype=torch.float32).to(device)"
   ]
  },
  {
   "cell_type": "code",
   "execution_count": 220,
   "metadata": {},
   "outputs": [
    {
     "name": "stdout",
     "output_type": "stream",
     "text": [
      "Epoch [10/400], Loss: 0.0634\n",
      "Epoch [20/400], Loss: 0.0569\n",
      "Epoch [30/400], Loss: 0.0508\n",
      "Epoch [40/400], Loss: 0.0451\n",
      "Epoch [50/400], Loss: 0.0395\n",
      "Epoch [60/400], Loss: 0.0341\n",
      "Epoch [70/400], Loss: 0.0288\n",
      "Epoch [80/400], Loss: 0.0237\n",
      "Epoch [90/400], Loss: 0.0188\n",
      "Epoch [100/400], Loss: 0.0144\n",
      "Epoch [110/400], Loss: 0.0107\n",
      "Epoch [120/400], Loss: 0.0078\n",
      "Epoch [130/400], Loss: 0.0057\n",
      "Epoch [140/400], Loss: 0.0044\n",
      "Epoch [150/400], Loss: 0.0035\n",
      "Epoch [160/400], Loss: 0.0030\n",
      "Epoch [170/400], Loss: 0.0027\n",
      "Epoch [180/400], Loss: 0.0024\n",
      "Epoch [190/400], Loss: 0.0022\n",
      "Epoch [200/400], Loss: 0.0020\n",
      "Epoch [210/400], Loss: 0.0019\n",
      "Epoch [220/400], Loss: 0.0018\n",
      "Epoch [230/400], Loss: 0.0017\n",
      "Epoch [240/400], Loss: 0.0016\n",
      "Epoch [250/400], Loss: 0.0015\n",
      "Epoch [260/400], Loss: 0.0014\n",
      "Epoch [270/400], Loss: 0.0014\n",
      "Epoch [280/400], Loss: 0.0013\n",
      "Epoch [290/400], Loss: 0.0013\n",
      "Epoch [300/400], Loss: 0.0013\n",
      "Epoch [310/400], Loss: 0.0012\n",
      "Epoch [320/400], Loss: 0.0012\n",
      "Epoch [330/400], Loss: 0.0012\n",
      "Epoch [340/400], Loss: 0.0012\n",
      "Epoch [350/400], Loss: 0.0011\n",
      "Epoch [360/400], Loss: 0.0011\n",
      "Epoch [370/400], Loss: 0.0011\n",
      "Epoch [380/400], Loss: 0.0011\n",
      "Epoch [390/400], Loss: 0.0011\n",
      "Epoch [400/400], Loss: 0.0011\n"
     ]
    },
    {
     "data": {
      "text/plain": [
       "'Model training complete and model saved.'"
      ]
     },
     "execution_count": 220,
     "metadata": {},
     "output_type": "execute_result"
    }
   ],
   "source": [
    "# Training loop\n",
    "for epoch in range(num_epochs):\n",
    "    model.train()\n",
    "    optimizer.zero_grad()\n",
    "    output = model(X_train_tensor)\n",
    "    loss = criterion(output, y_train_tensor)\n",
    "    loss.backward()\n",
    "    optimizer.step()\n",
    "\n",
    "    if (epoch+1) % 10 == 0:\n",
    "        print(f'Epoch [{epoch+1}/{num_epochs}], Loss: {loss.item():.4f}')\n",
    "\n",
    "# UnComment to save the weights\n",
    "# torch.save(model.state_dict(), './trained_model/Bhopal_07_Days.pt')\n",
    "\n",
    "\"Model training complete and model saved.\""
   ]
  },
  {
   "cell_type": "markdown",
   "metadata": {},
   "source": [
    "### **Evaluating the model**"
   ]
  },
  {
   "cell_type": "code",
   "execution_count": 246,
   "metadata": {},
   "outputs": [
    {
     "data": {
      "text/plain": [
       "0.0012104923371225595"
      ]
     },
     "execution_count": 246,
     "metadata": {},
     "output_type": "execute_result"
    }
   ],
   "source": [
    "model.eval()\n",
    "with torch.no_grad():\n",
    "    test_predictions = model(X_test_tensor)\n",
    "    test_loss = criterion(test_predictions, y_test_tensor)\n",
    "\n",
    "test_loss.item()"
   ]
  },
  {
   "cell_type": "markdown",
   "metadata": {},
   "source": [
    "#### Metrics before inverse transform"
   ]
  },
  {
   "cell_type": "code",
   "execution_count": 247,
   "metadata": {},
   "outputs": [
    {
     "name": "stdout",
     "output_type": "stream",
     "text": [
      "mse: 0.0012\n",
      "mae: 0.0186\n",
      "rmse: 0.0346\n"
     ]
    }
   ],
   "source": [
    "test_predictions_np = test_predictions.detach().cpu().numpy()\n",
    "\n",
    "mse = mean_squared_error(y_test, test_predictions_np)\n",
    "rmse = root_mean_squared_error(y_test, test_predictions_np)\n",
    "mae = mean_absolute_error(y_test, test_predictions_np)\n",
    "\n",
    "print(f\"mse: {mse:.4f}\")\n",
    "print(f\"mae: {mae:.4f}\")\n",
    "print(f\"rmse: {rmse:.4f}\")"
   ]
  },
  {
   "cell_type": "markdown",
   "metadata": {},
   "source": [
    "#### Inverse Transforming predictions and y_test"
   ]
  },
  {
   "cell_type": "code",
   "execution_count": 248,
   "metadata": {},
   "outputs": [],
   "source": [
    "num_features = train_data.shape[1] \n",
    "\n",
    "last_step_predictions = test_predictions.detach().cpu().numpy()[:, -1]\n",
    "dummies = np.zeros((last_step_predictions.shape[0], num_features))\n",
    "dummies[:, -1] = last_step_predictions\n",
    "dummies_transformed = scaler.inverse_transform(dummies)\n",
    "inverse_transformed_test_predictions = dummies_transformed[:, -1]\n",
    "\n",
    "y_test_last_step = y_test[:, -1]\n",
    "y_test_dummies = np.zeros((y_test.shape[0], num_features))\n",
    "y_test_dummies[:, -1] = y_test_last_step\n",
    "y_test_dummies_transformed = scaler.inverse_transform(y_test_dummies)\n",
    "inverse_transformed_y_test = y_test_dummies_transformed[:, -1]\n"
   ]
  },
  {
   "cell_type": "markdown",
   "metadata": {},
   "source": [
    "####  Visualizing the results"
   ]
  },
  {
   "cell_type": "code",
   "execution_count": 249,
   "metadata": {},
   "outputs": [
    {
     "data": {
      "image/png": "[encoded data removed]",
      "text/plain": [
       "<Figure size 1500x600 with 1 Axes>"
      ]
     },
     "metadata": {},
     "output_type": "display_data"
    }
   ],
   "source": [
    "plt.figure(figsize=(15, 6))\n",
    "plt.plot(inverse_transformed_y_test, label='Actual Water Availability', color='blue', alpha=0.8)  # Use inverse transformed data\n",
    "plt.plot(inverse_transformed_test_predictions, label='Predicted Water Availability', color='red', alpha=0.5)\n",
    "plt.title('Water Availability Prediction')\n",
    "plt.xlabel('Time Step')\n",
    "plt.ylabel('Water Availability')\n",
    "plt.legend()\n",
    "plt.show()"
   ]
  },
  {
   "cell_type": "markdown",
   "metadata": {},
   "source": [
    "#### Metrics after inverse transform"
   ]
  },
  {
   "cell_type": "code",
   "execution_count": 250,
   "metadata": {},
   "outputs": [
    {
     "name": "stdout",
     "output_type": "stream",
     "text": [
      "mse: 176297.1853\n",
      "mae: 208.9207\n",
      "rmse: 419.8776\n"
     ]
    }
   ],
   "source": [
    "mse = mean_squared_error(inverse_transformed_y_test, inverse_transformed_test_predictions)\n",
    "rmse = root_mean_squared_error(inverse_transformed_y_test, inverse_transformed_test_predictions)\n",
    "mae = mean_absolute_error(inverse_transformed_y_test, inverse_transformed_test_predictions)\n",
    "\n",
    "print(f\"mse: {mse:.4f}\")\n",
    "print(f\"mae: {mae:.4f}\")\n",
    "print(f\"rmse: {rmse:.4f}\")"
   ]
  }
 ],
 "metadata": {
  "kernelspec": {
   "display_name": ".venv",
   "language": "python",
   "name": "python3"
  },
  "language_info": {
   "codemirror_mode": {
    "name": "ipython",
    "version": 3
   },
   "file_extension": ".py",
   "mimetype": "text/x-python",
   "name": "python",
   "nbconvert_exporter": "python",
   "pygments_lexer": "ipython3",
   "version": "3.10.6"
  }
 },
 "nbformat": 4,
 "nbformat_minor": 2
}
