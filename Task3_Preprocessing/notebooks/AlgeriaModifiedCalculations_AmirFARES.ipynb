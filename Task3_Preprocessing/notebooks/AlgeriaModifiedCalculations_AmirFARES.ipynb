            {
  "nbformat": 4,
  "nbformat_minor": 0,
  "metadata": {
    "colab": {
      "provenance": []
    },
    "kernelspec": {
      "name": "python3",
      "display_name": "Python 3"
    },
    "language_info": {
      "name": "python"
    }
  },
  "cells": [
    {
      "cell_type": "code",
      "execution_count": 19,
      "metadata": {
        "id": "ThwZowWfFcII"
      },
      "outputs": [],
      "source": [
        "# all numbers in MLD\n",
        "\n",
        "SurfaceWater=300\n",
        "GroundWater=215\n",
        "DesalinatedWater=300\n",
        "TotalLossPerc=0.30 #30%\n",
        "\n",
        "WaterDailyDemandPerCap=200 #lcpd\n",
        "AvgPopulation=2731732\n",
        "\n",
        "ChangeInStorage=90 # Still unsure of this calculation for Algiers"
      ]
    },
    {
      "cell_type": "code",
      "source": [
        "# Daily Water Availability (MLD) = Daily Quantity Of Water Supplied - Water Demand\n",
        "# Water Demand (MLD) = Per-Capita Demand (lpcd) x Population\n",
        "# Daily Quantity Of Water Supplied = S + del S\n",
        "# del S (MLD) = Precipitation - Evapotranspiration - Surface Water Runoff\n"
      ],
      "metadata": {
        "id": "fzvEEqQ0GNSe"
      },
      "execution_count": 20,
      "outputs": []
    },
    {
      "cell_type": "code",
      "source": [
        "grossTargetSupply=SurfaceWater+GroundWater+DesalinatedWater\n",
        "print(f'Gross target supply: {round(grossTargetSupply)} MLD')\n",
        "NetWaterSupply = grossTargetSupply*(1-TotalLossPerc)\n",
        "print(f'Net water supply: {round(NetWaterSupply)} MLD')"
      ],
      "metadata": {
        "colab": {
          "base_uri": "https://localhost:8080/"
        },
        "id": "9XZsVzpJHjiz",
        "outputId": "ef4732ef-061e-4176-fd04-5a60932a5b9b"
      },
      "execution_count": 25,
      "outputs": [
        {
          "output_type": "stream",
          "name": "stdout",
          "text": [
            "Gross target supply: 815 MLD\n",
            "Net water supply: 570 MLD\n"
          ]
        }
      ]
    },
    {
      "cell_type": "code",
      "source": [
        "WaterDemand=(WaterDailyDemandPerCap*AvgPopulation)/1000000\n",
        "print(f'Water demand: {round(WaterDemand)} MLD')"
      ],
      "metadata": {
        "colab": {
          "base_uri": "https://localhost:8080/"
        },
        "id": "6zepYw8VH3qm",
        "outputId": "a4a44ffd-1ede-489d-bee1-82de1852d97d"
      },
      "execution_count": 26,
      "outputs": [
        {
          "output_type": "stream",
          "name": "stdout",
          "text": [
            "Water demand: 546 MLD\n"
          ]
        }
      ]
    },
    {
      "cell_type": "code",
      "source": [
        "AvailableWater=NetWaterSupply+ChangeInStorage\n",
        "print(f'Available water: {round(AvailableWater)} MLD')"
      ],
      "metadata": {
        "colab": {
          "base_uri": "https://localhost:8080/"
        },
        "id": "tH2sOFxdIoKp",
        "outputId": "799094da-3d66-43cf-b088-6176c5525777"
      },
      "execution_count": 27,
      "outputs": [
        {
          "output_type": "stream",
          "name": "stdout",
          "text": [
            "Available water: 660 MLD\n"
          ]
        }
      ]
    },
    {
      "cell_type": "code",
      "source": [
        "WaterScarcity=AvailableWater-WaterDemand\n",
        "print(f'Water scarcity: {round(WaterScarcity)} MLD')"
      ],
      "metadata": {
        "colab": {
          "base_uri": "https://localhost:8080/"
        },
        "id": "327HrBTEKiHR",
        "outputId": "9e2c8970-d9ab-422b-9650-be78bb27af40"
      },
      "execution_count": 28,
      "outputs": [
        {
          "output_type": "stream",
          "name": "stdout",
          "text": [
            "Water scarcity: 114 MLD\n"
          ]
        }
      ]
    },
    {
      "cell_type": "code",
      "source": [],
      "metadata": {
        "id": "ticE0LRGLJQt"
      },
      "execution_count": null,
      "outputs": []
    }
  ]
}